{
 "cells": [
  {
   "cell_type": "markdown",
   "metadata": {},
   "source": [
    "<img src=\"https://i.ytimg.com/vi/Z5r0uIUu1aA/hqdefault.jpg\">\n",
    "\n",
    "We can recylce code and prevent repetition through inheritance!\n",
    "\n",
    "Inheritance happens when a class utilizes code already existing in another class\n",
    "\n",
    "A child (or subclass) inheriets form a parent class (or base class)\n"
   ]
  },
  {
   "cell_type": "code",
   "execution_count": 2,
   "metadata": {},
   "outputs": [],
   "source": [
    "#shark.py\n",
    "\n",
    "#STEP 1 \n",
    "#create a Shark class with attributes first_name and last_name (make sure if no last_name is given, default to \"Shark\")\n",
    "class Shark(object):\n",
    "    def __init__(self, first_name, last_name = \"Shark\"):\n",
    "        self.first_name = first_name\n",
    "        self.last_name = last_name   "
   ]
  },
  {
   "cell_type": "code",
   "execution_count": 3,
   "metadata": {},
   "outputs": [],
   "source": [
    "#STEP 2\n",
    "#to the Shark class above, add two methods, swim and bite (each method should print a string representation of their \n",
    "#action)\n",
    "class Shark(object):\n",
    "    def __init__(self, first_name, last_name = \"Shark\"):\n",
    "        self.first_name = first_name\n",
    "        self.last_name = last_name   \n",
    "        \n",
    "    def swim(self):\n",
    "        return \"{}, {} is swimming.\".format(self.first_name, self.last_name)\n",
    "    \n",
    "    def bite(self):\n",
    "        return \"{}, {} is thrashing your flesh apart.\".format(self.first_name, self.last_name)\n",
    "    "
   ]
  },
  {
   "cell_type": "code",
   "execution_count": 4,
   "metadata": {},
   "outputs": [],
   "source": [
    "#STEP 3\n",
    "#to the Shark class above, add two attributes, fins (with a default of 8) and eyelids (with a default of True)\n",
    "#below, create an object instance and print out attributes/methods!\n",
    "class Shark(object):\n",
    "    def __init__(self, first_name, last_name = \"Shark\", fins = 8, eyelids = True):\n",
    "        self.first_name = first_name\n",
    "        self.last_name = last_name   \n",
    "        self.fins = fins\n",
    "        self.eyelids = eyelids\n",
    "        \n",
    "    def swim(self):\n",
    "        return \"{}, {} is swimming.\".format(self.first_name, self.last_name)\n",
    "    \n",
    "    def bite(self):\n",
    "        return \"{}, {} is thrashing your flesh apart.\".format(self.first_name, self.last_name)\n",
    "    "
   ]
  },
  {
   "cell_type": "code",
   "execution_count": 5,
   "metadata": {},
   "outputs": [
    {
     "name": "stdout",
     "output_type": "stream",
     "text": [
      "Francis\n",
      "Bean\n",
      "10\n",
      "12\n",
      "Francis, Bean is swimming.\n",
      "Francis, Bean is thrashing your flesh apart.\n"
     ]
    }
   ],
   "source": [
    "myshark = Shark(\"Francis\", \"Bean\", 10, 12)\n",
    "print(myshark.first_name)\n",
    "print(myshark.last_name)\n",
    "print(myshark.fins)\n",
    "print(myshark.eyelids)\n",
    "print(myshark.swim())\n",
    "print(myshark.bite())"
   ]
  },
  {
   "cell_type": "code",
   "execution_count": 6,
   "metadata": {},
   "outputs": [],
   "source": [
    "#STEP 4\n",
    "#create a new child class, Tiger_Shark which inherits from the parent class Shark\n",
    "class Tiger_Shark(Shark):\n",
    "    pass"
   ]
  },
  {
   "cell_type": "code",
   "execution_count": 7,
   "metadata": {},
   "outputs": [
    {
     "name": "stdout",
     "output_type": "stream",
     "text": [
      "Hi, I'm Terry.\n",
      "I have 8 fins.\n",
      "I have 3 eyelids.\n",
      "Terry, Shark is swimming.\n",
      "Terry, Shark is thrashing your flesh apart.\n"
     ]
    }
   ],
   "source": [
    "#STEP 5\n",
    "#create an object instance.  Print out attributes/methods!\n",
    "terry = Tiger_Shark(\"Terry\")\n",
    "terry.eyelids = 3\n",
    "print(\"Hi, I\\'m {}.\".format(terry.first_name))\n",
    "print(\"I have {} fins.\".format((terry.fins)))\n",
    "print(\"I have {} eyelids.\".format(terry.eyelids))\n",
    "print(terry.swim())\n",
    "print(terry.bite())"
   ]
  },
  {
   "cell_type": "code",
   "execution_count": 8,
   "metadata": {},
   "outputs": [],
   "source": [
    "#STEP 6\n",
    "#create a new child class that has its own method \n",
    "class GreatWhiteShark(Shark):\n",
    "    def famous(self):\n",
    "        return (\"I\\'m a pretty well known Shark.\")"
   ]
  },
  {
   "cell_type": "code",
   "execution_count": 9,
   "metadata": {},
   "outputs": [],
   "source": [
    "#STEP 7\n",
    "#create an object instance.  Print out attributes/methods!"
   ]
  },
  {
   "cell_type": "code",
   "execution_count": 10,
   "metadata": {},
   "outputs": [
    {
     "name": "stdout",
     "output_type": "stream",
     "text": [
      "Hi, I'm Gary Shark\n",
      "I'm a pretty well known Shark.\n",
      "Gary, Shark is swimming.\n",
      "Gary, Shark is thrashing your flesh apart.\n"
     ]
    }
   ],
   "source": [
    "gary = GreatWhiteShark(\"Gary\")\n",
    "print(\"Hi, I\\'m {} {}\".format(gary.first_name, gary.last_name))\n",
    "print(gary.famous())\n",
    "print(gary.swim())\n",
    "print(gary.bite())"
   ]
  },
  {
   "cell_type": "code",
   "execution_count": 13,
   "metadata": {},
   "outputs": [],
   "source": [
    "#STEP 8\n",
    "#create a new child class that overrides parent methods/attributes\n",
    "class GMShark(Shark):\n",
    "    def __init__(self, first_name, last_name=\"Shark2019\", fins = 100, eyelids = False):\n",
    "        \n",
    "        self.first_name = first_name\n",
    "        self.last_name = last_name\n",
    "        self.fins= fins\n",
    "        self.eyelids = eyelids\n",
    "        \n",
    "    def swim(self):\n",
    "        return(\"{} {} swims at light speed and stares into your soul.\".format(self.first_name, self.last_name))\n",
    "    "
   ]
  },
  {
   "cell_type": "code",
   "execution_count": null,
   "metadata": {},
   "outputs": [],
   "source": []
  },
  {
   "cell_type": "code",
   "execution_count": 14,
   "metadata": {},
   "outputs": [
    {
     "name": "stdout",
     "output_type": "stream",
     "text": [
      "Hi, I'm Sam.\n",
      "I have 100 fins.\n",
      "I have False eyelids.\n",
      "Sam Shark2019 swims at light speed and stares into your soul.\n",
      "Sam, Shark2019 is thrashing your flesh apart.\n"
     ]
    }
   ],
   "source": [
    "#STEP 9 \n",
    "#create an object instance.  Print out attributes/methods!\n",
    "sam = GMShark(\"Sam\")\n",
    "print(\"Hi, I\\'m {}.\".format(sam.first_name))\n",
    "print(\"I have {} fins.\".format((sam.fins)))\n",
    "print(\"I have {} eyelids.\".format(sam.eyelids))\n",
    "print(sam.swim())\n",
    "print(sam.bite())"
   ]
  },
  {
   "cell_type": "code",
   "execution_count": null,
   "metadata": {},
   "outputs": [],
   "source": []
  },
  {
   "cell_type": "code",
   "execution_count": 25,
   "metadata": {},
   "outputs": [],
   "source": [
    "#STEP 10\n",
    "#Create a new child class Bull_Shark to demonstrate super() power\n",
    "class Bull_Shark(Shark):\n",
    "    def __init__(self, first_name, water=\"freshwater\"):\n",
    "        # Super allows access to __init_ of parent class.\n",
    "        # Must pass first_name to both parent and child classes or error.\n",
    "        # You only have to do this for parameters that aren't default.\n",
    "        # super(Bull_Shark, self).__init__(first_name)\n",
    "        \n",
    "        #In Python 3 do Super like this:\n",
    "        super().__init__(first_name, last_name = \"Ponton\")\n",
    "        self.water = water\n",
    "        self.dangerous = True\n",
    "    "
   ]
  },
  {
   "cell_type": "code",
   "execution_count": null,
   "metadata": {},
   "outputs": [],
   "source": []
  },
  {
   "cell_type": "code",
   "execution_count": 27,
   "metadata": {},
   "outputs": [
    {
     "name": "stdout",
     "output_type": "stream",
     "text": [
      "Hi, I'm Tony.\n",
      "I have 8 fins.\n",
      "I have True eyelids.\n",
      "Tony, Ponton is swimming.\n",
      "Tony, Ponton is thrashing your flesh apart.\n",
      "I live in freshwater.\n",
      "Tony is super dangerous? True\n"
     ]
    }
   ],
   "source": [
    "#STEP 11\n",
    "#create an object instance.  Print out attributes/methods!\n",
    "tony = Bull_Shark(\"Tony\")\n",
    "print(\"Hi, I\\'m {}.\".format(tony.first_name))\n",
    "print(\"I have {} fins.\".format((tony.fins)))\n",
    "print(\"I have {} eyelids.\".format(tony.eyelids))\n",
    "print(tony.swim())\n",
    "print(tony.bite())\n",
    "print(\"I live in {}.\".format(tony.water))\n",
    "print(\"Tony is super dangerous? {}\".format(tony.dangerous))"
   ]
  },
  {
   "cell_type": "code",
   "execution_count": 28,
   "metadata": {},
   "outputs": [],
   "source": [
    "#----------------------------------------------------------------------------------------------------------------------"
   ]
  },
  {
   "cell_type": "code",
   "execution_count": 38,
   "metadata": {},
   "outputs": [
    {
     "ename": "TypeError",
     "evalue": "__init_subclass__() takes no keyword arguments",
     "output_type": "error",
     "traceback": [
      "\u001b[0;31m---------------------------------------------------------------------------\u001b[0m",
      "\u001b[0;31mTypeError\u001b[0m                                 Traceback (most recent call last)",
      "\u001b[0;32m<ipython-input-38-1c872145cd12>\u001b[0m in \u001b[0;36m<module>\u001b[0;34m\u001b[0m\n\u001b[1;32m     15\u001b[0m \u001b[0;34m\u001b[0m\u001b[0m\n\u001b[1;32m     16\u001b[0m \u001b[0;31m# Multiple parent inheritance\u001b[0m\u001b[0;34m\u001b[0m\u001b[0;34m\u001b[0m\u001b[0m\n\u001b[0;32m---> 17\u001b[0;31m \u001b[0;32mclass\u001b[0m \u001b[0mOcean\u001b[0m\u001b[0;34m(\u001b[0m\u001b[0mH20\u001b[0m\u001b[0;34m,\u001b[0m \u001b[0mNACL\u001b[0m\u001b[0;34m,\u001b[0m \u001b[0mtemp\u001b[0m \u001b[0;34m=\u001b[0m \u001b[0;32mNone\u001b[0m\u001b[0;34m)\u001b[0m\u001b[0;34m:\u001b[0m\u001b[0;34m\u001b[0m\u001b[0m\n\u001b[0m\u001b[1;32m     18\u001b[0m     \u001b[0;32mpass\u001b[0m\u001b[0;34m\u001b[0m\u001b[0m\n",
      "\u001b[0;31mTypeError\u001b[0m: __init_subclass__() takes no keyword arguments"
     ]
    }
   ],
   "source": [
    "#in a seperate .py file, demonstrate multiple inheritance \n",
    "class H20(object):\n",
    "    def __init__(self, color):\n",
    "        self.color = color\n",
    "    \n",
    "    def composeH20(self):\n",
    "        return \"Sumon the power of water\"\n",
    "\n",
    "class NACL(object):\n",
    "    def __init__(self, temp):\n",
    "        self.temp = temp\n",
    "    \n",
    "    def composeNACL(self):\n",
    "        return \"Summon the power of salt\"\n",
    "    \n",
    "# Multiple parent inheritance\n",
    "class Ocean(H20, NACL):\n",
    "    pass"
   ]
  },
  {
   "cell_type": "code",
   "execution_count": 39,
   "metadata": {},
   "outputs": [
    {
     "ename": "TypeError",
     "evalue": "__init__() takes 2 positional arguments but 3 were given",
     "output_type": "error",
     "traceback": [
      "\u001b[0;31m---------------------------------------------------------------------------\u001b[0m",
      "\u001b[0;31mTypeError\u001b[0m                                 Traceback (most recent call last)",
      "\u001b[0;32m<ipython-input-39-e242bd79a358>\u001b[0m in \u001b[0;36m<module>\u001b[0;34m\u001b[0m\n\u001b[1;32m      1\u001b[0m \u001b[0;31m#collective_ocean.py\u001b[0m\u001b[0;34m\u001b[0m\u001b[0;34m\u001b[0m\u001b[0m\n\u001b[1;32m      2\u001b[0m \u001b[0;31m# Multiple parent inheritance\u001b[0m\u001b[0;34m\u001b[0m\u001b[0;34m\u001b[0m\u001b[0m\n\u001b[0;32m----> 3\u001b[0;31m \u001b[0mpacific\u001b[0m \u001b[0;34m=\u001b[0m \u001b[0mOcean\u001b[0m\u001b[0;34m(\u001b[0m\u001b[0;34m\"blue\"\u001b[0m\u001b[0;34m,\u001b[0m \u001b[0;36m95\u001b[0m\u001b[0;34m)\u001b[0m\u001b[0;34m\u001b[0m\u001b[0m\n\u001b[0m\u001b[1;32m      4\u001b[0m \u001b[0mprint\u001b[0m\u001b[0;34m(\u001b[0m\u001b[0;34m\"The color of the Pacific Ocean is {}\"\u001b[0m\u001b[0;34m.\u001b[0m\u001b[0mformat\u001b[0m\u001b[0;34m(\u001b[0m\u001b[0mpacific\u001b[0m\u001b[0;34m.\u001b[0m\u001b[0mcolor\u001b[0m\u001b[0;34m)\u001b[0m\u001b[0;34m)\u001b[0m\u001b[0;34m\u001b[0m\u001b[0m\n\u001b[1;32m      5\u001b[0m \u001b[0mprint\u001b[0m\u001b[0;34m(\u001b[0m\u001b[0;34m\"The temperature of the Pacific Ocean is {}\"\u001b[0m\u001b[0;34m.\u001b[0m\u001b[0mformat\u001b[0m\u001b[0;34m(\u001b[0m\u001b[0mpacific\u001b[0m\u001b[0;34m.\u001b[0m\u001b[0mtemp\u001b[0m\u001b[0;34m)\u001b[0m\u001b[0;34m)\u001b[0m\u001b[0;34m\u001b[0m\u001b[0m\n",
      "\u001b[0;31mTypeError\u001b[0m: __init__() takes 2 positional arguments but 3 were given"
     ]
    }
   ],
   "source": [
    "#collective_ocean.py \n",
    "# Multiple parent inheritance\n",
    "pacific = Ocean(\"blue\", 95)\n",
    "print(\"The color of the Pacific Ocean is {}\".format(pacific.color))\n",
    "print(pacific.composeH20())\n",
    "print(pacific.composeNACL())\n",
    "print(isinstance(pacific, Ocean))"
   ]
  },
  {
   "cell_type": "code",
   "execution_count": null,
   "metadata": {},
   "outputs": [],
   "source": []
  }
 ],
 "metadata": {
  "kernelspec": {
   "display_name": "Python 3",
   "language": "python",
   "name": "python3"
  },
  "language_info": {
   "codemirror_mode": {
    "name": "ipython",
    "version": 3
   },
   "file_extension": ".py",
   "mimetype": "text/x-python",
   "name": "python",
   "nbconvert_exporter": "python",
   "pygments_lexer": "ipython3",
   "version": "3.6.6"
  }
 },
 "nbformat": 4,
 "nbformat_minor": 2
}
