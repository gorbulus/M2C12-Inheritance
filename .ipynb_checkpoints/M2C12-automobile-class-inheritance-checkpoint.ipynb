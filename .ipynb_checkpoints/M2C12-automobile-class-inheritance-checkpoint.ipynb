{
 "cells": [
  {
   "cell_type": "markdown",
   "metadata": {},
   "source": [
    "We run a car dealership!\n",
    "\n",
    "Currently we will sell Cars, Trucks, and Motobikes.\n",
    "\n",
    "Each vehicle will be represented by a class and contain the following components:\n",
    "\n",
    "-Attributes:\n",
    "**Wheels, Miles driven, Make, Model, Year, Sold On Date**\n",
    "        \n",
    "Methods:\n",
    "\n",
    "Sales price of an automobile to a customer is determined by the equation:  \n",
    "            **$2,000 x number of total wheels**\n",
    "    \n",
    "We also like to give the customer the option of selling vehicles to us;  total buy back for a used vehicle is determined by the equation:\n",
    "            \n",
    "**(flat rate based on the vehicle type) - 10% of the miles driven on vehicle**\n",
    "\n",
    "For the above 'flat rate based on vehicle type, rate is as follows:\n",
    "\n",
    "**Truck: $10,000**\n",
    "\n",
    "**Car: $8,000**\n",
    "\n",
    "**Motobike:  $4,000**"
   ]
  },
  {
   "cell_type": "code",
   "execution_count": 10,
   "metadata": {},
   "outputs": [],
   "source": [
    "#STEP 1\n",
    "#First create Car class based on the above criteria:\n",
    "class Car(object):\n",
    "    def __init__(self, wheels, miles, make, model, year, sold_on=None):\n",
    "        self.wheels = wheels\n",
    "        self.miles = miles\n",
    "        self.make = make\n",
    "        self.model = model\n",
    "        self.year = year\n",
    "        self.sold_on = sold_on\n",
    "        \n",
    "    def sale_price(self):\n",
    "        if self.sold_on is not None:\n",
    "            return \"This has been sold already.\"\n",
    "            return \"We are selling this for: {}\". format(2000.0 + self.wheels)\n",
    "        \n",
    "    def buyback_price(self):\n",
    "        if self.sold_on is None:\n",
    "            return \"This is still not sold and it\\'s at the front of the lot.\"\n",
    "        return \"We are buying this for: {}.\".format(8000 - (.10 * self.miles))"
   ]
  },
  {
   "cell_type": "code",
   "execution_count": 11,
   "metadata": {},
   "outputs": [],
   "source": [
    "#STEP 2\n",
    "#Next create Truck class based on the above criteria:\n",
    "class Truck(object):\n",
    "    def __init__(self, wheels, miles, make, model, year, sold_on=None):\n",
    "        self.wheels = wheels\n",
    "        self.miles = miles\n",
    "        self.make = make\n",
    "        self.model = model\n",
    "        self.year = year\n",
    "        self.sold_on = sold_on\n",
    "        \n",
    "    def sale_price(self):\n",
    "        if self.sold_on is not None:\n",
    "            return \"This has been sold already.\"\n",
    "            return \"We are selling this for: {}\". format(2000.0 + self.wheels)\n",
    "        \n",
    "    def buyback_price(self):\n",
    "        if self.sold_on is None:\n",
    "            return \"This is still not sold and it\\'s at the front of the lot.\"\n",
    "        return \"We are buying this for: {}.\".format(10000 - (.10 * self.miles))"
   ]
  },
  {
   "cell_type": "code",
   "execution_count": 12,
   "metadata": {},
   "outputs": [],
   "source": [
    "#STEP 3\n",
    "#We are repeating our code, could we abstract and consolidate our classes?:\n",
    "class Vehicle(object):\n",
    "    def __init__(self, miles, make, model, year, sold_on=None):\n",
    "        self.miles = miles\n",
    "        self.make = make\n",
    "        self.model = model\n",
    "        self.year = year\n",
    "        self.sold_on = sold_on\n",
    "        \n",
    "    def sale_price(self):\n",
    "        if self.sold_on is not None:\n",
    "            return \"This has been sold already.\"\n",
    "            return \"We are selling this for: {}\". format(2000.0 + self.wheels)\n",
    "        \n",
    "    def buyback_price(self):\n",
    "        if self.sold_on is None:\n",
    "            return \"This is still not sold and it\\'s at the front of the lot.\"\n",
    "        return \"We are buying this for: {}.\".format(self.base_sale_price - (.10 * self.miles))\n",
    "    "
   ]
  },
  {
   "cell_type": "code",
   "execution_count": 13,
   "metadata": {},
   "outputs": [],
   "source": [
    "#STEP 4\n",
    "#Now that we have a parent class, let's rewrite Car/Truck classes\n",
    "#with wheels/base_sale_price as Class attributes (remove corresponding\n",
    "#__init__ parameters/attributes from STEP 3 class Vehicle):\n",
    "class Car(Vehicle):\n",
    "    base_sale_price = 8000\n",
    "    wheels = 4\n",
    "    \n",
    "class Truck(Vehicle):\n",
    "    base_sale_price = 10000\n",
    "    wheels = 4\n",
    "    \n",
    "class Motobike(Vehicle):\n",
    "    base_sale_price = 4000\n",
    "    wheels = 2"
   ]
  },
  {
   "cell_type": "code",
   "execution_count": 14,
   "metadata": {},
   "outputs": [],
   "source": [
    "#STEP 5\n",
    "#Create a car that was sold, a truck that hasn't been sold, a motobike \n",
    "#that hasn't been sold\n",
    "mycar = Car(2000, \"Honda\", \"CRV\", 2006, \"12-7-2011\")\n",
    "mytruck = Truck(10000, \"Ford\", \"F150\", 2009, None)\n",
    "mymotobike = Motobike(1234, \"Kawasaki\", \"Ninja\", 2000, None)"
   ]
  },
  {
   "cell_type": "code",
   "execution_count": 15,
   "metadata": {},
   "outputs": [
    {
     "name": "stdout",
     "output_type": "stream",
     "text": [
      "Honda\n",
      "CRV\n",
      "2006\n",
      "12-7-2011\n",
      "This has been sold already.\n",
      "We are buying this for: 7800.0.\n"
     ]
    }
   ],
   "source": [
    "print(mycar.make)\n",
    "print(mycar.model)\n",
    "print(mycar.year)\n",
    "print(mycar.sold_on)\n",
    "print(mycar.sale_price())\n",
    "print(mycar.buyback_price())"
   ]
  },
  {
   "cell_type": "code",
   "execution_count": 16,
   "metadata": {},
   "outputs": [
    {
     "name": "stdout",
     "output_type": "stream",
     "text": [
      "Ford\n",
      "F150\n",
      "2009\n",
      "None\n",
      "None\n",
      "This is still not sold and it's at the front of the lot.\n"
     ]
    }
   ],
   "source": [
    "print(mytruck.make)\n",
    "print(mytruck.model)\n",
    "print(mytruck.year)\n",
    "print(mytruck.sold_on)\n",
    "print(mytruck.sale_price())\n",
    "print(mytruck.buyback_price())"
   ]
  },
  {
   "cell_type": "code",
   "execution_count": 17,
   "metadata": {},
   "outputs": [
    {
     "name": "stdout",
     "output_type": "stream",
     "text": [
      "Kawasaki\n",
      "Ninja\n",
      "2000\n",
      "None\n",
      "None\n",
      "This is still not sold and it's at the front of the lot.\n"
     ]
    }
   ],
   "source": [
    "print(mymotobike.make)\n",
    "print(mymotobike.model)\n",
    "print(mymotobike.year)\n",
    "print(mymotobike.sold_on)\n",
    "print(mymotobike.sale_price())\n",
    "print(mymotobike.buyback_price())"
   ]
  },
  {
   "cell_type": "code",
   "execution_count": null,
   "metadata": {},
   "outputs": [],
   "source": []
  }
 ],
 "metadata": {
  "kernelspec": {
   "display_name": "Python 3",
   "language": "python",
   "name": "python3"
  },
  "language_info": {
   "codemirror_mode": {
    "name": "ipython",
    "version": 3
   },
   "file_extension": ".py",
   "mimetype": "text/x-python",
   "name": "python",
   "nbconvert_exporter": "python",
   "pygments_lexer": "ipython3",
   "version": "3.6.6"
  }
 },
 "nbformat": 4,
 "nbformat_minor": 2
}
